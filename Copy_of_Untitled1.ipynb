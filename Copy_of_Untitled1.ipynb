{
  "nbformat": 4,
  "nbformat_minor": 0,
  "metadata": {
    "colab": {
      "name": "Copy of Untitled1.ipynb",
      "provenance": [],
      "include_colab_link": true
    },
    "kernelspec": {
      "name": "python3",
      "display_name": "Python 3"
    },
    "language_info": {
      "name": "python"
    }
  },
  "cells": [
    {
      "cell_type": "markdown",
      "metadata": {
        "id": "view-in-github",
        "colab_type": "text"
      },
      "source": [
        "<a href=\"https://colab.research.google.com/github/vik1verma/hello-world/blob/main/Copy_of_Untitled1.ipynb\" target=\"_parent\"><img src=\"https://colab.research.google.com/assets/colab-badge.svg\" alt=\"Open In Colab\"/></a>"
      ]
    },
    {
      "cell_type": "markdown",
      "metadata": {
        "id": "nzDZSbbKpXZ3"
      },
      "source": [
        "An insurance company wants to design the insurance policy for a driver where A \n",
        "company insures its drivers in the following cases:\n",
        "- If the driver is married.\n",
        "- If the driver is unmarried, male and above 30 years of age.\n",
        "- If the driver is unmarried, female and above 25 years of age. \n",
        "\n"
      ]
    },
    {
      "cell_type": "code",
      "metadata": {
        "id": "ymdC9rX7pznG"
      },
      "source": [
        "a = str(input(\"Enter your marital status (Married/Unmarried): \"))\n",
        "b = str(input(\"Enter your sex (Male/Female): \"))\n",
        "c = int(input(\"Enter your age: \"))\n",
        "if a == 'Married':\n",
        "   print(\"Driver is insured\")\n",
        "elif a == 'Unmarried' and b == 'Male' and c > 30:\n",
        "   print(\"Driver is insured\")  \n",
        "elif a == 'Unmarried' and b == 'Female' and c > 25:\n",
        "   print(\"Driver is insured\")\n",
        "else:\n",
        "   print(\"Driver is not insured\")"
      ],
      "execution_count": null,
      "outputs": []
    },
    {
      "cell_type": "markdown",
      "metadata": {
        "id": "AxCyZ4RxrPd5"
      },
      "source": [
        "Computer Science faculty of an institute who is teaching to mechanical and civil \n",
        "engineering students present the challenge to design an automated solution which \n",
        "calculate and print the following sum of series 1+3+5+7………+n"
      ]
    },
    {
      "cell_type": "code",
      "metadata": {
        "id": "FODl604rrQ19"
      },
      "source": [
        "A=int(input(\"enter the number to be calculated\"))\n",
        "sum=0  \n",
        "count=1\n",
        "while (count<=A):\n",
        "    sum=sum+count\n",
        "    print(count)\n",
        "    count=count+2\n",
        "print(\"the sum of number is: \", sum)"
      ],
      "execution_count": null,
      "outputs": []
    },
    {
      "cell_type": "markdown",
      "metadata": {
        "id": "3P7SZxwMsVn4"
      },
      "source": [
        "Normally in all engineering colleges, there will be a long vacation after every even \n",
        "semester and a short vacation after every odd semester. Given the current semester \n",
        "in which a student is in, create a small automated module based on below \n",
        "mentioned constraints that determine whether he will have a long vacation or short \n",
        "vacation at the end of this semester.\n",
        "Constrains\n",
        "Value should be not be less than 0 and more than 8\n",
        "Input Format: Input consists of 1 integer which corresponds to the current \n",
        "semester of the student. Output :Long Vacation "
      ]
    },
    {
      "cell_type": "code",
      "metadata": {
        "id": "DGR0_cttsWym"
      },
      "source": [
        "S=int(input(\"Enter the current semester you are studying\"))\n",
        "print(\"current semester of the student: \",S)\n",
        "if(S<=0 and S<=8):\n",
        "    if (S%2==0):\n",
        "      print(\"current semsester is Even\\n\\t long Vacationis there after semester end.\")\n",
        "else:\n",
        "    print(\"short Vacations\")  "
      ],
      "execution_count": null,
      "outputs": []
    },
    {
      "cell_type": "markdown",
      "metadata": {
        "id": "1TCQ6Eens-CI"
      },
      "source": [
        "There are 10 students in the class. Students had their midterm result in INT102 and \n",
        "teacher wants to find the average marks of the class in INT102 and display it. Help \n",
        "the teacher to design an automated solution that accepts marks of 10 students as \n",
        "input and prints the average of marks as output.\n",
        "Input: Enter the marks of 10 students in integer using for loop or while loop.\n",
        "Output: Average marks of the class"
      ]
    },
    {
      "cell_type": "code",
      "metadata": {
        "id": "0bZ-mIVFtAD_"
      },
      "source": [
        "lst=[]\n",
        "print(\"Enter the total no. of strength whose marks to be entered\")\n",
        "N=int(input(\"enter:\\t\"))\n",
        "for i in range(1,N+1):\n",
        "   M=int(input(\"enter the number of studeents: \"))\n",
        "   print(\"number of students \",i,\" is \",M)\n",
        "   lst.append(M)\n",
        "   count=sum(lst)\n",
        "print(\"the sum of total  marks is: \",count)\n",
        "print()\n",
        "avg=count/N\n",
        "print(\"average  marks of student in class is: \",avg)"
      ],
      "execution_count": null,
      "outputs": []
    },
    {
      "cell_type": "markdown",
      "metadata": {
        "id": "dxiVPQoNxEK4"
      },
      "source": [
        "There was a class of 60 students .It was the first day of their class. The students \n",
        "have to give their name to their teacher .They have given it in the format: FIRST \n",
        "NAME and LAST NAME, both separated by a space. When the first day ends, the \n",
        "teacher had to upload the names into the school’s website but, it was of the format \n",
        ": LAST NAME and FIRST NAME both separated by a space. Design an \n",
        "automated solution using modular approach that swaps the two names.\n",
        "INPUT : Aditya Roy\n",
        "OUTPUT : Roy Aditya."
      ]
    },
    {
      "cell_type": "code",
      "metadata": {
        "id": "SHUTIzJAxGvX"
      },
      "source": [
        "#Swapping Name\n",
        "fst_name=input(\"enter the first name:\\t\")  #Entering first name\n",
        "lst_name=input(\"Enter the last name:\\t\")     #Entering Last name\n",
        "print(\"full name:\\t\",fst_name+'  '+lst_name)        # Adding Both name\n",
        "print(\"name after swapping:\\t\",lst_name+'  '+fst_name) # Now Swapping Name"
      ],
      "execution_count": null,
      "outputs": []
    },
    {
      "cell_type": "markdown",
      "metadata": {
        "id": "B1LdJ63qxvdZ"
      },
      "source": [
        "Check whether the triangle is equilateral, scalene, or isosceles. Before writing the \n",
        "program, we should know the properties of isosceles, equilateral, and scalene \n",
        "triangles.\n",
        "Isosceles triangle: In geometry, an isosceles triangle is a triangle that has two sides \n",
        "of equal length.\n",
        "Equilateral triangle: In geometry, an equilateral triangle is a triangle in which all \n",
        "three sides are equal. Scalene triangle: A scalene triangle is a triangle that has \n",
        "three unequal sides. Write the program in python that check whether the triangle is \n",
        "equilateral, scalene, or isosceles by taking number of sides as input values. (5"
      ]
    },
    {
      "cell_type": "code",
      "metadata": {
        "id": "8EG8Jcaixwax"
      },
      "source": [
        "print(\"Input lengths of the triangle sides: \")\n",
        "x = int(input(\"x: \"))  #  Insering first side\n",
        "y = int(input(\"y: \"))     # Inserting Second Side\n",
        "z = int(input(\"z: \"))       # Inserting Third side\n",
        "if x == y == z:                     # Using condtion for Eqilateral Traingle\n",
        "\tprint(\"Equilateral triangle\")\n",
        "elif x==y or y==z or z==x:          # Using Condition for isoscceles Triangle\n",
        "\tprint(\"isosceles triangle\") \n",
        "else:                                # Remaining for Scalene Triangle\n",
        "\tprint(\"Scalene triangle\")\n"
      ],
      "execution_count": null,
      "outputs": []
    }
  ]
}